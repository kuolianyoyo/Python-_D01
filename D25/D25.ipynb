{
 "cells": [
  {
   "cell_type": "markdown",
   "metadata": {
    "id": "rys0cuXcLdvO"
   },
   "source": [
    "# 目標:\n",
    "\n",
    "學習 BASEMAP的進階應用\n",
    "\n",
    "# 重點: \n",
    "\n",
    "1. 導入PANDAS, 利用PANDAS 的數據繪製關係圖\n",
    "\n",
    "2. 如何自行輸入經緯度繪製所在區域的地圖\n",
    "\n",
    "3. 學習如何讀取氣象資訊檔: netCDF4\n",
    "\n",
    "有疑問, 請多提出來, 有專家陪跑"
   ]
  },
  {
   "cell_type": "code",
   "execution_count": 1,
   "metadata": {
    "id": "6V-uuSvvLdve",
    "outputId": "b89dd054-f0eb-4780-beee-f467a583b9d2"
   },
   "outputs": [
    {
     "name": "stdout",
     "output_type": "stream",
     "text": [
      "^C\n"
     ]
    }
   ],
   "source": [
    "#載入氣象資訊檔, 提供解讀檔案資訊\n",
    "#!pip install netCDF4"
   ]
  },
  {
   "cell_type": "code",
   "execution_count": 3,
   "metadata": {
    "id": "N1wNRcvGLdvh",
    "outputId": "dee6d11a-e70f-46a2-d217-15a3f524adae",
    "scrolled": true
   },
   "outputs": [
    {
     "ename": "ModuleNotFoundError",
     "evalue": "No module named 'mpl_toolkits.basemap'",
     "output_type": "error",
     "traceback": [
      "\u001b[1;31m---------------------------------------------------------------------------\u001b[0m",
      "\u001b[1;31mModuleNotFoundError\u001b[0m                       Traceback (most recent call last)",
      "\u001b[1;32m<ipython-input-3-1cab1d0f4662>\u001b[0m in \u001b[0;36m<module>\u001b[1;34m\u001b[0m\n\u001b[0;32m      1\u001b[0m \u001b[1;32mfrom\u001b[0m \u001b[0m__future__\u001b[0m \u001b[1;32mimport\u001b[0m \u001b[1;33m(\u001b[0m\u001b[0mabsolute_import\u001b[0m\u001b[1;33m,\u001b[0m \u001b[0mdivision\u001b[0m\u001b[1;33m,\u001b[0m \u001b[0mprint_function\u001b[0m\u001b[1;33m)\u001b[0m\u001b[1;33m\u001b[0m\u001b[1;33m\u001b[0m\u001b[0m\n\u001b[0;32m      2\u001b[0m \u001b[1;33m\u001b[0m\u001b[0m\n\u001b[1;32m----> 3\u001b[1;33m \u001b[1;32mfrom\u001b[0m \u001b[0mmpl_toolkits\u001b[0m\u001b[1;33m.\u001b[0m\u001b[0mbasemap\u001b[0m \u001b[1;32mimport\u001b[0m \u001b[0mBasemap\u001b[0m\u001b[1;33m\u001b[0m\u001b[1;33m\u001b[0m\u001b[0m\n\u001b[0m\u001b[0;32m      4\u001b[0m \u001b[1;32mimport\u001b[0m \u001b[0mnumpy\u001b[0m \u001b[1;32mas\u001b[0m \u001b[0mnp\u001b[0m\u001b[1;33m\u001b[0m\u001b[1;33m\u001b[0m\u001b[0m\n\u001b[0;32m      5\u001b[0m \u001b[1;32mimport\u001b[0m \u001b[0mmatplotlib\u001b[0m\u001b[1;33m.\u001b[0m\u001b[0mpyplot\u001b[0m \u001b[1;32mas\u001b[0m \u001b[0mplt\u001b[0m\u001b[1;33m\u001b[0m\u001b[1;33m\u001b[0m\u001b[0m\n",
      "\u001b[1;31mModuleNotFoundError\u001b[0m: No module named 'mpl_toolkits.basemap'"
     ]
    }
   ],
   "source": [
    "from __future__ import (absolute_import, division, print_function)\n",
    "\n",
    "from mpl_toolkits.basemap import Basemap\n",
    "import numpy as np\n",
    "import matplotlib.pyplot as plt\n",
    "\n",
    "# 說明使用warpimage method 方法顯示圖像背景。\n",
    "# 在地圖投影區域。 預設背景是『藍色。\n",
    "#來自美國宇航局的大理石圖像 (http://visibleearth.nasa.gov)\n",
    "\n",
    "# 建立新圖像\n",
    "fig=plt.figure()\n",
    "# 定義以北美為中心的正交投影.\n",
    "m = Basemap(projection='ortho',lat_0=40,lon_0=-100,resolution='l')\n",
    "# 顯示非預設影像 - 匯入要使用的IMAGE\n",
    "m.warpimage(image='earth_lights_lrg.jpg')\n",
    "# 繪製海岸線。\n",
    "m.drawcoastlines(linewidth=0.5,color='0.5')\n",
    "# 每 30 度繪製一組 lat/lon 網格線。\n",
    "m.drawmeridians(np.arange(0,360,30),color='0.5')\n",
    "m.drawparallels(np.arange(-90,90,30),color='0.5')\n",
    "#添加圖示標題\n",
    "plt.title(\"Lights at Night image warped from 'cyl' to 'ortho' projection\",fontsize=12)\n",
    "print('warp to orthographic map ...')"
   ]
  },
  {
   "cell_type": "code",
   "execution_count": 5,
   "metadata": {
    "id": "ZoBgtKB7Ldvl",
    "outputId": "a5a62fd7-ae83-49af-a20e-1ee5a9d0b96b"
   },
   "outputs": [
    {
     "ename": "ModuleNotFoundError",
     "evalue": "No module named 'mpl_toolkits.basemap'",
     "output_type": "error",
     "traceback": [
      "\u001b[1;31m---------------------------------------------------------------------------\u001b[0m",
      "\u001b[1;31mModuleNotFoundError\u001b[0m                       Traceback (most recent call last)",
      "\u001b[1;32m<ipython-input-5-8ea107b0f449>\u001b[0m in \u001b[0;36m<module>\u001b[1;34m\u001b[0m\n\u001b[0;32m      1\u001b[0m \u001b[1;32mfrom\u001b[0m \u001b[0m__future__\u001b[0m \u001b[1;32mimport\u001b[0m \u001b[1;33m(\u001b[0m\u001b[0mabsolute_import\u001b[0m\u001b[1;33m,\u001b[0m \u001b[0mdivision\u001b[0m\u001b[1;33m,\u001b[0m \u001b[0mprint_function\u001b[0m\u001b[1;33m)\u001b[0m\u001b[1;33m\u001b[0m\u001b[1;33m\u001b[0m\u001b[0m\n\u001b[0;32m      2\u001b[0m \u001b[1;33m\u001b[0m\u001b[0m\n\u001b[1;32m----> 3\u001b[1;33m \u001b[1;32mfrom\u001b[0m \u001b[0mmpl_toolkits\u001b[0m\u001b[1;33m.\u001b[0m\u001b[0mbasemap\u001b[0m \u001b[1;32mimport\u001b[0m \u001b[0mBasemap\u001b[0m\u001b[1;33m\u001b[0m\u001b[1;33m\u001b[0m\u001b[0m\n\u001b[0m\u001b[0;32m      4\u001b[0m \u001b[1;32mimport\u001b[0m \u001b[0mnumpy\u001b[0m \u001b[1;32mas\u001b[0m \u001b[0mnp\u001b[0m\u001b[1;33m\u001b[0m\u001b[1;33m\u001b[0m\u001b[0m\n\u001b[0;32m      5\u001b[0m \u001b[1;32mimport\u001b[0m \u001b[0mmatplotlib\u001b[0m\u001b[1;33m.\u001b[0m\u001b[0mpyplot\u001b[0m \u001b[1;32mas\u001b[0m \u001b[0mplt\u001b[0m\u001b[1;33m\u001b[0m\u001b[1;33m\u001b[0m\u001b[0m\n",
      "\u001b[1;31mModuleNotFoundError\u001b[0m: No module named 'mpl_toolkits.basemap'"
     ]
    }
   ],
   "source": [
    "from __future__ import (absolute_import, division, print_function)\n",
    "\n",
    "from mpl_toolkits.basemap import Basemap\n",
    "import numpy as np\n",
    "import matplotlib.pyplot as plt\n",
    "\n",
    "# 說明使用warpimage method 方法顯示圖像背景。\n",
    "# 在地圖投影區域。 預設背景是『藍色。\n",
    "#來自美國宇航局的大理石圖像 (http://visibleearth.nasa.gov)\n",
    "\n",
    "# 建立新圖像\n",
    "fig=plt.figure()\n",
    "# 定義以北美為中心的正交投影.\n",
    "m = Basemap(projection='ortho',lat_0=40,lon_0=-100,resolution='l')\n",
    "# 顯示非預設影像 - 匯入要使用的IMAGE\n",
    "m.warpimage(image='earth_lights_lrg.jpg')\n",
    "# 繪製海岸線。\n",
    "m.drawcoastlines(linewidth=0.5,color='0.5')\n",
    "# 每 30 度繪製一組 lat/lon 網格線。\n",
    "m.drawmeridians(np.arange(0,360,30),color='0.5')\n",
    "m.drawparallels(np.arange(-90,90,30),color='0.5')\n",
    "#添加圖示標題\n",
    "plt.title(\"Lights at Night image warped from 'cyl' to 'ortho' projection\",fontsize=12)\n",
    "print('warp to orthographic map ...')\n",
    "\n"
   ]
  },
  {
   "cell_type": "code",
   "execution_count": 4,
   "metadata": {
    "id": "fnW1nY0DLdvn",
    "outputId": "bee6e761-2ede-45bd-9a3c-0684656e69de"
   },
   "outputs": [
    {
     "ename": "NameError",
     "evalue": "name 'plt' is not defined",
     "output_type": "error",
     "traceback": [
      "\u001b[1;31m---------------------------------------------------------------------------\u001b[0m",
      "\u001b[1;31mNameError\u001b[0m                                 Traceback (most recent call last)",
      "\u001b[1;32m<ipython-input-4-5d1db7037394>\u001b[0m in \u001b[0;36m<module>\u001b[1;34m\u001b[0m\n\u001b[0;32m      1\u001b[0m \u001b[1;31m# 建立新圖像\u001b[0m\u001b[1;33m\u001b[0m\u001b[1;33m\u001b[0m\u001b[1;33m\u001b[0m\u001b[0m\n\u001b[1;32m----> 2\u001b[1;33m \u001b[0mfig\u001b[0m\u001b[1;33m=\u001b[0m\u001b[0mplt\u001b[0m\u001b[1;33m.\u001b[0m\u001b[0mfigure\u001b[0m\u001b[1;33m(\u001b[0m\u001b[1;33m)\u001b[0m\u001b[1;33m\u001b[0m\u001b[1;33m\u001b[0m\u001b[0m\n\u001b[0m\u001b[0;32m      3\u001b[0m \u001b[1;31m#新定義圓柱形等距投影。\u001b[0m\u001b[1;33m\u001b[0m\u001b[1;33m\u001b[0m\u001b[1;33m\u001b[0m\u001b[0m\n\u001b[0;32m      4\u001b[0m \u001b[0mm\u001b[0m \u001b[1;33m=\u001b[0m \u001b[0mBasemap\u001b[0m\u001b[1;33m(\u001b[0m\u001b[0mprojection\u001b[0m\u001b[1;33m=\u001b[0m\u001b[1;34m'cyl'\u001b[0m\u001b[1;33m,\u001b[0m\u001b[0mllcrnrlon\u001b[0m\u001b[1;33m=\u001b[0m\u001b[1;33m-\u001b[0m\u001b[1;36m180\u001b[0m\u001b[1;33m,\u001b[0m\u001b[0mllcrnrlat\u001b[0m\u001b[1;33m=\u001b[0m\u001b[1;33m-\u001b[0m\u001b[1;36m90\u001b[0m\u001b[1;33m,\u001b[0m\u001b[0murcrnrlon\u001b[0m\u001b[1;33m=\u001b[0m\u001b[1;36m180\u001b[0m\u001b[1;33m,\u001b[0m\u001b[0murcrnrlat\u001b[0m\u001b[1;33m=\u001b[0m\u001b[1;36m90\u001b[0m\u001b[1;33m,\u001b[0m\u001b[0mresolution\u001b[0m\u001b[1;33m=\u001b[0m\u001b[1;34m'l'\u001b[0m\u001b[1;33m)\u001b[0m\u001b[1;33m\u001b[0m\u001b[1;33m\u001b[0m\u001b[0m\n\u001b[0;32m      5\u001b[0m \u001b[1;31m# 繪圖 (未扭曲) rgba 圖像\u001b[0m\u001b[1;33m\u001b[0m\u001b[1;33m\u001b[0m\u001b[1;33m\u001b[0m\u001b[0m\n",
      "\u001b[1;31mNameError\u001b[0m: name 'plt' is not defined"
     ]
    }
   ],
   "source": [
    "# 建立新圖像\n",
    "fig=plt.figure()\n",
    "#新定義圓柱形等距投影。\n",
    "m = Basemap(projection='cyl',llcrnrlon=-180,llcrnrlat=-90,urcrnrlon=180,urcrnrlat=90,resolution='l')\n",
    "# 繪圖 (未扭曲) rgba 圖像\n",
    "im = m.bluemarble(scale=0.5)\n",
    "m.warpimage(image='earth_lights_lrg.jpg')\n",
    "# 繪製海岸線。\n",
    "m.drawcoastlines(linewidth=0.5,color='0.5')\n",
    "# 繪製經緯度網格\n",
    "m.drawmeridians(np.arange(-180,180,60),labels=[0,0,0,1],color='0.5')\n",
    "m.drawparallels(np.arange(-90,90,30),labels=[1,0,0,0],color='0.5')\n",
    "# 輸出圖像標題\n",
    "plt.title(\"Blue Marble image - native 'cyl' projection\",fontsize=12)\n",
    "print('plot native cylindrical map (no warping needed) ...')\n",
    "\n",
    "plt.show()\n"
   ]
  },
  {
   "cell_type": "code",
   "execution_count": null,
   "metadata": {
    "id": "6H0r1l_RLdvo"
   },
   "outputs": [],
   "source": []
  }
 ],
 "metadata": {
  "colab": {
   "name": "DV_Day-8_Basemap-範例.ipynb",
   "provenance": []
  },
  "kernelspec": {
   "display_name": "Python 3",
   "language": "python",
   "name": "python3"
  },
  "language_info": {
   "codemirror_mode": {
    "name": "ipython",
    "version": 3
   },
   "file_extension": ".py",
   "mimetype": "text/x-python",
   "name": "python",
   "nbconvert_exporter": "python",
   "pygments_lexer": "ipython3",
   "version": "3.8.5"
  }
 },
 "nbformat": 4,
 "nbformat_minor": 1
}
